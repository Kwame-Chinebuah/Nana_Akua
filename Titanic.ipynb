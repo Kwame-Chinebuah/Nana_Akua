{
 "cells": [
  {
   "cell_type": "markdown",
   "id": "e74fdf21-ff67-4c8c-a45c-66b8230f9785",
   "metadata": {},
   "source": [
    "## **1. Prepare (data for exploration)**"
   ]
  },
  {
   "cell_type": "code",
   "execution_count": 220,
   "id": "e152023f-e335-4f16-ab6b-9e1cf645e035",
   "metadata": {},
   "outputs": [],
   "source": [
    "#import all relevant libraries\n",
    "\n",
    "import pandas as pd\n",
    "import matplotlib.pyplot as plt\n",
    "from IPython.display import display\n",
    "import pypandoc"
   ]
  },
  {
   "cell_type": "code",
   "execution_count": 203,
   "id": "9376c546-ca45-4d7d-a210-3d5044638858",
   "metadata": {},
   "outputs": [],
   "source": [
    "#read all 3 datasets into dataframe for analysis\n",
    "df_train = pd.read_csv(\"C:/Users/kwame\\Documents/Python/Nana_Akua/train.csv\")\n",
    "df_test = pd.read_csv(\"C:/Users/kwame\\Documents/Python/Nana_Akua/test.csv\")\n",
    "df_gsub = pd.read_csv(\"C:/Users/kwame\\Documents/Python/Nana_Akua/gender_submission.csv\")"
   ]
  },
  {
   "cell_type": "markdown",
   "id": "af9083de-7321-4afe-9346-62e40c01c1bd",
   "metadata": {},
   "source": [
    "## 2. Process (data from dirty to clean)"
   ]
  },
  {
   "cell_type": "markdown",
   "id": "f60e788f-67f0-4d29-af56-8e286c0db770",
   "metadata": {},
   "source": [
    "### **2.1 Inspect DataFrames**"
   ]
  },
  {
   "cell_type": "code",
   "execution_count": 204,
   "id": "652d1d17-a58f-41cc-b1a8-0f75951b2fca",
   "metadata": {},
   "outputs": [
    {
     "name": "stdout",
     "output_type": "stream",
     "text": [
      "First 5 rows of df_train:\n"
     ]
    },
    {
     "data": {
      "text/html": [
       "<div>\n",
       "<style scoped>\n",
       "    .dataframe tbody tr th:only-of-type {\n",
       "        vertical-align: middle;\n",
       "    }\n",
       "\n",
       "    .dataframe tbody tr th {\n",
       "        vertical-align: top;\n",
       "    }\n",
       "\n",
       "    .dataframe thead th {\n",
       "        text-align: right;\n",
       "    }\n",
       "</style>\n",
       "<table border=\"1\" class=\"dataframe\">\n",
       "  <thead>\n",
       "    <tr style=\"text-align: right;\">\n",
       "      <th></th>\n",
       "      <th>PassengerId</th>\n",
       "      <th>Survived</th>\n",
       "      <th>Pclass</th>\n",
       "      <th>Name</th>\n",
       "      <th>Sex</th>\n",
       "      <th>Age</th>\n",
       "      <th>SibSp</th>\n",
       "      <th>Parch</th>\n",
       "      <th>Ticket</th>\n",
       "      <th>Fare</th>\n",
       "      <th>Cabin</th>\n",
       "      <th>Embarked</th>\n",
       "    </tr>\n",
       "  </thead>\n",
       "  <tbody>\n",
       "    <tr>\n",
       "      <th>0</th>\n",
       "      <td>1</td>\n",
       "      <td>0</td>\n",
       "      <td>3</td>\n",
       "      <td>Braund, Mr. Owen Harris</td>\n",
       "      <td>male</td>\n",
       "      <td>22.0</td>\n",
       "      <td>1</td>\n",
       "      <td>0</td>\n",
       "      <td>A/5 21171</td>\n",
       "      <td>7.2500</td>\n",
       "      <td>NaN</td>\n",
       "      <td>S</td>\n",
       "    </tr>\n",
       "    <tr>\n",
       "      <th>1</th>\n",
       "      <td>2</td>\n",
       "      <td>1</td>\n",
       "      <td>1</td>\n",
       "      <td>Cumings, Mrs. John Bradley (Florence Briggs Th...</td>\n",
       "      <td>female</td>\n",
       "      <td>38.0</td>\n",
       "      <td>1</td>\n",
       "      <td>0</td>\n",
       "      <td>PC 17599</td>\n",
       "      <td>71.2833</td>\n",
       "      <td>C85</td>\n",
       "      <td>C</td>\n",
       "    </tr>\n",
       "    <tr>\n",
       "      <th>2</th>\n",
       "      <td>3</td>\n",
       "      <td>1</td>\n",
       "      <td>3</td>\n",
       "      <td>Heikkinen, Miss. Laina</td>\n",
       "      <td>female</td>\n",
       "      <td>26.0</td>\n",
       "      <td>0</td>\n",
       "      <td>0</td>\n",
       "      <td>STON/O2. 3101282</td>\n",
       "      <td>7.9250</td>\n",
       "      <td>NaN</td>\n",
       "      <td>S</td>\n",
       "    </tr>\n",
       "    <tr>\n",
       "      <th>3</th>\n",
       "      <td>4</td>\n",
       "      <td>1</td>\n",
       "      <td>1</td>\n",
       "      <td>Futrelle, Mrs. Jacques Heath (Lily May Peel)</td>\n",
       "      <td>female</td>\n",
       "      <td>35.0</td>\n",
       "      <td>1</td>\n",
       "      <td>0</td>\n",
       "      <td>113803</td>\n",
       "      <td>53.1000</td>\n",
       "      <td>C123</td>\n",
       "      <td>S</td>\n",
       "    </tr>\n",
       "    <tr>\n",
       "      <th>4</th>\n",
       "      <td>5</td>\n",
       "      <td>0</td>\n",
       "      <td>3</td>\n",
       "      <td>Allen, Mr. William Henry</td>\n",
       "      <td>male</td>\n",
       "      <td>35.0</td>\n",
       "      <td>0</td>\n",
       "      <td>0</td>\n",
       "      <td>373450</td>\n",
       "      <td>8.0500</td>\n",
       "      <td>NaN</td>\n",
       "      <td>S</td>\n",
       "    </tr>\n",
       "  </tbody>\n",
       "</table>\n",
       "</div>"
      ],
      "text/plain": [
       "   PassengerId  Survived  Pclass  \\\n",
       "0            1         0       3   \n",
       "1            2         1       1   \n",
       "2            3         1       3   \n",
       "3            4         1       1   \n",
       "4            5         0       3   \n",
       "\n",
       "                                                Name     Sex   Age  SibSp  \\\n",
       "0                            Braund, Mr. Owen Harris    male  22.0      1   \n",
       "1  Cumings, Mrs. John Bradley (Florence Briggs Th...  female  38.0      1   \n",
       "2                             Heikkinen, Miss. Laina  female  26.0      0   \n",
       "3       Futrelle, Mrs. Jacques Heath (Lily May Peel)  female  35.0      1   \n",
       "4                           Allen, Mr. William Henry    male  35.0      0   \n",
       "\n",
       "   Parch            Ticket     Fare Cabin Embarked  \n",
       "0      0         A/5 21171   7.2500   NaN        S  \n",
       "1      0          PC 17599  71.2833   C85        C  \n",
       "2      0  STON/O2. 3101282   7.9250   NaN        S  \n",
       "3      0            113803  53.1000  C123        S  \n",
       "4      0            373450   8.0500   NaN        S  "
      ]
     },
     "metadata": {},
     "output_type": "display_data"
    },
    {
     "name": "stdout",
     "output_type": "stream",
     "text": [
      "First 5 rows of df_test:\n"
     ]
    },
    {
     "data": {
      "text/html": [
       "<div>\n",
       "<style scoped>\n",
       "    .dataframe tbody tr th:only-of-type {\n",
       "        vertical-align: middle;\n",
       "    }\n",
       "\n",
       "    .dataframe tbody tr th {\n",
       "        vertical-align: top;\n",
       "    }\n",
       "\n",
       "    .dataframe thead th {\n",
       "        text-align: right;\n",
       "    }\n",
       "</style>\n",
       "<table border=\"1\" class=\"dataframe\">\n",
       "  <thead>\n",
       "    <tr style=\"text-align: right;\">\n",
       "      <th></th>\n",
       "      <th>PassengerId</th>\n",
       "      <th>Pclass</th>\n",
       "      <th>Name</th>\n",
       "      <th>Sex</th>\n",
       "      <th>Age</th>\n",
       "      <th>SibSp</th>\n",
       "      <th>Parch</th>\n",
       "      <th>Ticket</th>\n",
       "      <th>Fare</th>\n",
       "      <th>Cabin</th>\n",
       "      <th>Embarked</th>\n",
       "    </tr>\n",
       "  </thead>\n",
       "  <tbody>\n",
       "    <tr>\n",
       "      <th>0</th>\n",
       "      <td>892</td>\n",
       "      <td>3</td>\n",
       "      <td>Kelly, Mr. James</td>\n",
       "      <td>male</td>\n",
       "      <td>34.5</td>\n",
       "      <td>0</td>\n",
       "      <td>0</td>\n",
       "      <td>330911</td>\n",
       "      <td>7.8292</td>\n",
       "      <td>NaN</td>\n",
       "      <td>Q</td>\n",
       "    </tr>\n",
       "    <tr>\n",
       "      <th>1</th>\n",
       "      <td>893</td>\n",
       "      <td>3</td>\n",
       "      <td>Wilkes, Mrs. James (Ellen Needs)</td>\n",
       "      <td>female</td>\n",
       "      <td>47.0</td>\n",
       "      <td>1</td>\n",
       "      <td>0</td>\n",
       "      <td>363272</td>\n",
       "      <td>7.0000</td>\n",
       "      <td>NaN</td>\n",
       "      <td>S</td>\n",
       "    </tr>\n",
       "    <tr>\n",
       "      <th>2</th>\n",
       "      <td>894</td>\n",
       "      <td>2</td>\n",
       "      <td>Myles, Mr. Thomas Francis</td>\n",
       "      <td>male</td>\n",
       "      <td>62.0</td>\n",
       "      <td>0</td>\n",
       "      <td>0</td>\n",
       "      <td>240276</td>\n",
       "      <td>9.6875</td>\n",
       "      <td>NaN</td>\n",
       "      <td>Q</td>\n",
       "    </tr>\n",
       "    <tr>\n",
       "      <th>3</th>\n",
       "      <td>895</td>\n",
       "      <td>3</td>\n",
       "      <td>Wirz, Mr. Albert</td>\n",
       "      <td>male</td>\n",
       "      <td>27.0</td>\n",
       "      <td>0</td>\n",
       "      <td>0</td>\n",
       "      <td>315154</td>\n",
       "      <td>8.6625</td>\n",
       "      <td>NaN</td>\n",
       "      <td>S</td>\n",
       "    </tr>\n",
       "    <tr>\n",
       "      <th>4</th>\n",
       "      <td>896</td>\n",
       "      <td>3</td>\n",
       "      <td>Hirvonen, Mrs. Alexander (Helga E Lindqvist)</td>\n",
       "      <td>female</td>\n",
       "      <td>22.0</td>\n",
       "      <td>1</td>\n",
       "      <td>1</td>\n",
       "      <td>3101298</td>\n",
       "      <td>12.2875</td>\n",
       "      <td>NaN</td>\n",
       "      <td>S</td>\n",
       "    </tr>\n",
       "  </tbody>\n",
       "</table>\n",
       "</div>"
      ],
      "text/plain": [
       "   PassengerId  Pclass                                          Name     Sex  \\\n",
       "0          892       3                              Kelly, Mr. James    male   \n",
       "1          893       3              Wilkes, Mrs. James (Ellen Needs)  female   \n",
       "2          894       2                     Myles, Mr. Thomas Francis    male   \n",
       "3          895       3                              Wirz, Mr. Albert    male   \n",
       "4          896       3  Hirvonen, Mrs. Alexander (Helga E Lindqvist)  female   \n",
       "\n",
       "    Age  SibSp  Parch   Ticket     Fare Cabin Embarked  \n",
       "0  34.5      0      0   330911   7.8292   NaN        Q  \n",
       "1  47.0      1      0   363272   7.0000   NaN        S  \n",
       "2  62.0      0      0   240276   9.6875   NaN        Q  \n",
       "3  27.0      0      0   315154   8.6625   NaN        S  \n",
       "4  22.0      1      1  3101298  12.2875   NaN        S  "
      ]
     },
     "metadata": {},
     "output_type": "display_data"
    },
    {
     "name": "stdout",
     "output_type": "stream",
     "text": [
      "First 5 rows of df_gsub:\n"
     ]
    },
    {
     "data": {
      "text/html": [
       "<div>\n",
       "<style scoped>\n",
       "    .dataframe tbody tr th:only-of-type {\n",
       "        vertical-align: middle;\n",
       "    }\n",
       "\n",
       "    .dataframe tbody tr th {\n",
       "        vertical-align: top;\n",
       "    }\n",
       "\n",
       "    .dataframe thead th {\n",
       "        text-align: right;\n",
       "    }\n",
       "</style>\n",
       "<table border=\"1\" class=\"dataframe\">\n",
       "  <thead>\n",
       "    <tr style=\"text-align: right;\">\n",
       "      <th></th>\n",
       "      <th>PassengerId</th>\n",
       "      <th>Survived</th>\n",
       "    </tr>\n",
       "  </thead>\n",
       "  <tbody>\n",
       "    <tr>\n",
       "      <th>0</th>\n",
       "      <td>892</td>\n",
       "      <td>0</td>\n",
       "    </tr>\n",
       "    <tr>\n",
       "      <th>1</th>\n",
       "      <td>893</td>\n",
       "      <td>1</td>\n",
       "    </tr>\n",
       "    <tr>\n",
       "      <th>2</th>\n",
       "      <td>894</td>\n",
       "      <td>0</td>\n",
       "    </tr>\n",
       "    <tr>\n",
       "      <th>3</th>\n",
       "      <td>895</td>\n",
       "      <td>0</td>\n",
       "    </tr>\n",
       "    <tr>\n",
       "      <th>4</th>\n",
       "      <td>896</td>\n",
       "      <td>1</td>\n",
       "    </tr>\n",
       "  </tbody>\n",
       "</table>\n",
       "</div>"
      ],
      "text/plain": [
       "   PassengerId  Survived\n",
       "0          892         0\n",
       "1          893         1\n",
       "2          894         0\n",
       "3          895         0\n",
       "4          896         1"
      ]
     },
     "metadata": {},
     "output_type": "display_data"
    }
   ],
   "source": [
    "#check first 5 rows of all 3 dataframes\n",
    "print(\"First 5 rows of df_train:\")\n",
    "display(df_train.head())\n",
    "\n",
    "print(\"First 5 rows of df_test:\")\n",
    "display(df_test.head())\n",
    "\n",
    "print(\"First 5 rows of df_gsub:\")\n",
    "display(df_gsub.head())"
   ]
  },
  {
   "cell_type": "code",
   "execution_count": 205,
   "id": "3dde766d-02d6-44fe-9327-aa25a7ea72b7",
   "metadata": {},
   "outputs": [
    {
     "name": "stdout",
     "output_type": "stream",
     "text": [
      "Number of rows & columns of df_train:\n"
     ]
    },
    {
     "data": {
      "text/plain": [
       "(891, 12)"
      ]
     },
     "metadata": {},
     "output_type": "display_data"
    },
    {
     "name": "stdout",
     "output_type": "stream",
     "text": [
      "\n",
      "\n",
      "Number of rows & columns of df_test:\n"
     ]
    },
    {
     "data": {
      "text/plain": [
       "(418, 11)"
      ]
     },
     "metadata": {},
     "output_type": "display_data"
    },
    {
     "name": "stdout",
     "output_type": "stream",
     "text": [
      "\n",
      "\n",
      "Number of rows & columns of df_gsub:\n"
     ]
    },
    {
     "data": {
      "text/plain": [
       "(418, 2)"
      ]
     },
     "metadata": {},
     "output_type": "display_data"
    },
    {
     "name": "stdout",
     "output_type": "stream",
     "text": [
      "\n",
      "\n"
     ]
    }
   ],
   "source": [
    "#check shape of all 3 dataframes\n",
    "print(\"Number of rows & columns of df_train:\")\n",
    "display(df_train.shape)\n",
    "print(\"\\n\")\n",
    "\n",
    "print(\"Number of rows & columns of df_test:\")\n",
    "display(df_test.shape)\n",
    "print(\"\\n\")\n",
    "\n",
    "print(\"Number of rows & columns of df_gsub:\")\n",
    "display(df_gsub.shape)\n",
    "print(\"\\n\")"
   ]
  },
  {
   "cell_type": "code",
   "execution_count": 206,
   "id": "a4dcfa94-6194-4319-8e8e-4dc63d0094d1",
   "metadata": {},
   "outputs": [
    {
     "name": "stdout",
     "output_type": "stream",
     "text": [
      "df_train:\n",
      "<class 'pandas.core.frame.DataFrame'>\n",
      "RangeIndex: 891 entries, 0 to 890\n",
      "Data columns (total 12 columns):\n",
      " #   Column       Non-Null Count  Dtype  \n",
      "---  ------       --------------  -----  \n",
      " 0   PassengerId  891 non-null    int64  \n",
      " 1   Survived     891 non-null    int64  \n",
      " 2   Pclass       891 non-null    int64  \n",
      " 3   Name         891 non-null    object \n",
      " 4   Sex          891 non-null    object \n",
      " 5   Age          714 non-null    float64\n",
      " 6   SibSp        891 non-null    int64  \n",
      " 7   Parch        891 non-null    int64  \n",
      " 8   Ticket       891 non-null    object \n",
      " 9   Fare         891 non-null    float64\n",
      " 10  Cabin        204 non-null    object \n",
      " 11  Embarked     889 non-null    object \n",
      "dtypes: float64(2), int64(5), object(5)\n",
      "memory usage: 83.7+ KB\n"
     ]
    },
    {
     "data": {
      "text/plain": [
       "None"
      ]
     },
     "metadata": {},
     "output_type": "display_data"
    },
    {
     "name": "stdout",
     "output_type": "stream",
     "text": [
      "\n",
      "\n",
      "df_test:\n",
      "<class 'pandas.core.frame.DataFrame'>\n",
      "RangeIndex: 418 entries, 0 to 417\n",
      "Data columns (total 11 columns):\n",
      " #   Column       Non-Null Count  Dtype  \n",
      "---  ------       --------------  -----  \n",
      " 0   PassengerId  418 non-null    int64  \n",
      " 1   Pclass       418 non-null    int64  \n",
      " 2   Name         418 non-null    object \n",
      " 3   Sex          418 non-null    object \n",
      " 4   Age          332 non-null    float64\n",
      " 5   SibSp        418 non-null    int64  \n",
      " 6   Parch        418 non-null    int64  \n",
      " 7   Ticket       418 non-null    object \n",
      " 8   Fare         417 non-null    float64\n",
      " 9   Cabin        91 non-null     object \n",
      " 10  Embarked     418 non-null    object \n",
      "dtypes: float64(2), int64(4), object(5)\n",
      "memory usage: 36.0+ KB\n"
     ]
    },
    {
     "data": {
      "text/plain": [
       "None"
      ]
     },
     "metadata": {},
     "output_type": "display_data"
    },
    {
     "name": "stdout",
     "output_type": "stream",
     "text": [
      "\n",
      "\n",
      "df_gsub:\n",
      "<class 'pandas.core.frame.DataFrame'>\n",
      "RangeIndex: 418 entries, 0 to 417\n",
      "Data columns (total 2 columns):\n",
      " #   Column       Non-Null Count  Dtype\n",
      "---  ------       --------------  -----\n",
      " 0   PassengerId  418 non-null    int64\n",
      " 1   Survived     418 non-null    int64\n",
      "dtypes: int64(2)\n",
      "memory usage: 6.7 KB\n"
     ]
    },
    {
     "data": {
      "text/plain": [
       "None"
      ]
     },
     "metadata": {},
     "output_type": "display_data"
    },
    {
     "name": "stdout",
     "output_type": "stream",
     "text": [
      "\n",
      "\n"
     ]
    }
   ],
   "source": [
    "#check attributes of all 3 dataframes' contents\n",
    "print(\"df_train:\")\n",
    "display(df_train.info())\n",
    "print(\"\\n\")\n",
    "\n",
    "print(\"df_test:\")\n",
    "display(df_test.info())\n",
    "print(\"\\n\")\n",
    "\n",
    "print(\"df_gsub:\")\n",
    "display(df_gsub.info())\n",
    "print(\"\\n\")"
   ]
  },
  {
   "cell_type": "markdown",
   "id": "52ccbfe9-f271-43a0-8795-db2f3904f8fc",
   "metadata": {},
   "source": [
    "### **2.2 Clean DataFrames**"
   ]
  },
  {
   "cell_type": "markdown",
   "id": "da27bd35-e6e2-44cb-a312-e8ab5083deb8",
   "metadata": {},
   "source": [
    "#### *2.2.1 Handle Null Values*"
   ]
  },
  {
   "cell_type": "code",
   "execution_count": 207,
   "id": "f29dec08-ca74-4e9f-98ad-b1414bdd4132",
   "metadata": {},
   "outputs": [
    {
     "name": "stdout",
     "output_type": "stream",
     "text": [
      "\u001b[1mdf_train missing values:\u001b[0m\n",
      "Age column:\n"
     ]
    },
    {
     "data": {
      "text/plain": [
       "177"
      ]
     },
     "metadata": {},
     "output_type": "display_data"
    },
    {
     "name": "stdout",
     "output_type": "stream",
     "text": [
      "Cabin column:\n"
     ]
    },
    {
     "data": {
      "text/plain": [
       "687"
      ]
     },
     "metadata": {},
     "output_type": "display_data"
    },
    {
     "name": "stdout",
     "output_type": "stream",
     "text": [
      "Embarked column:\n"
     ]
    },
    {
     "data": {
      "text/plain": [
       "2"
      ]
     },
     "metadata": {},
     "output_type": "display_data"
    },
    {
     "name": "stdout",
     "output_type": "stream",
     "text": [
      "\n",
      "\n",
      "\u001b[1mdf_test missing values:\u001b[0m\n",
      "Age column:\n"
     ]
    },
    {
     "data": {
      "text/plain": [
       "86"
      ]
     },
     "metadata": {},
     "output_type": "display_data"
    },
    {
     "name": "stdout",
     "output_type": "stream",
     "text": [
      "Fare column:\n"
     ]
    },
    {
     "data": {
      "text/plain": [
       "1"
      ]
     },
     "metadata": {},
     "output_type": "display_data"
    },
    {
     "name": "stdout",
     "output_type": "stream",
     "text": [
      "Cabin:\n"
     ]
    },
    {
     "data": {
      "text/plain": [
       "327"
      ]
     },
     "metadata": {},
     "output_type": "display_data"
    }
   ],
   "source": [
    "#Check for number of missing values in the Age, Cabin and Embarked columns of df_train \n",
    "print(\"\\033[1m\" + \"df_train missing values:\" + \"\\033[0m\")\n",
    "print(\"Age column:\")\n",
    "display(df_train[\"Age\"].isnull().sum())\n",
    "\n",
    "print(\"Cabin column:\")\n",
    "display(df_train[\"Cabin\"].isnull().sum())\n",
    "\n",
    "print(\"Embarked column:\")\n",
    "display(df_train[\"Embarked\"].isnull().sum())\n",
    "print(\"\\n\")\n",
    "\n",
    "#Check for number of missing values in the Age, Fare and Cabin columns of df_test\n",
    "print(\"\\033[1m\" + \"df_test missing values:\" + \"\\033[0m\")\n",
    "print(\"Age column:\")\n",
    "display(df_test[\"Age\"].isnull().sum())\n",
    "\n",
    "print(\"Fare column:\")\n",
    "display(df_test[\"Fare\"].isnull().sum())\n",
    "\n",
    "print(\"Cabin:\")\n",
    "display(df_test[\"Cabin\"].isnull().sum())"
   ]
  },
  {
   "cell_type": "code",
   "execution_count": 208,
   "id": "fbee9591-3e66-4c92-93e1-7b8a0119be36",
   "metadata": {},
   "outputs": [],
   "source": [
    "\"\"\" \n",
    "    The Embarked column of df_train contains just 2 rows with 2 null values.\n",
    "    The Fare column of df_test contain just 1 row with null values.\n",
    "    Therefore, dropping those rows would not affect the data significantly.\n",
    "    \n",
    "    \"\"\"\n",
    "#drop rows with null values in the Embarked column of df_train\n",
    "df_train = df_train.dropna(subset = [\"Embarked\"], how = \"any\")\n",
    "\n",
    "#drop rows with null values in the Fare column of df_test\n",
    "df_test = df_test.dropna(subset = [\"Fare\"], how = \"any\")"
   ]
  },
  {
   "cell_type": "code",
   "execution_count": 209,
   "id": "c2850f2a-935f-4f0f-8f17-de8274c2fe0d",
   "metadata": {},
   "outputs": [],
   "source": [
    "\"\"\" \n",
    "    The Cabin columns of both df_train and df_test contains too many null values, over 77% each.\n",
    "    It would, therefore, be best to drop the columns in both data frames. \n",
    "    \n",
    "    \"\"\"\n",
    "#drop Cabin column from the df_train\n",
    "df_train = df_train.drop(\"Cabin\", axis = 1)\n",
    "\n",
    "#drop Cabin column from the df_test\n",
    "df_test = df_test.drop(\"Cabin\", axis = 1)"
   ]
  },
  {
   "cell_type": "code",
   "execution_count": 210,
   "id": "7519fc27-861e-46c0-a2ea-10c1ca8248e6",
   "metadata": {},
   "outputs": [],
   "source": [
    "\"\"\" \n",
    "    The Age column is an important column in both dataframes and so cannot be dropped.\n",
    "    It would be filled with the mean age of the column.\n",
    "    \n",
    "    \"\"\"\n",
    "#Fill the Age column with the mean age value in df_train\n",
    "df_train[\"Age\"] = df_train[\"Age\"].fillna(df_train[\"Age\"].mean())\n",
    "\n",
    "#Fill the Age column with the mean age value in df_test\n",
    "df_test[\"Age\"] = df_test[\"Age\"].fillna(df_test[\"Age\"].mean())\n"
   ]
  },
  {
   "cell_type": "code",
   "execution_count": 211,
   "id": "5e2d1796-18b5-43f6-929f-be609d160d40",
   "metadata": {},
   "outputs": [
    {
     "name": "stdout",
     "output_type": "stream",
     "text": [
      "df_train:\n",
      "<class 'pandas.core.frame.DataFrame'>\n",
      "Int64Index: 889 entries, 0 to 890\n",
      "Data columns (total 11 columns):\n",
      " #   Column       Non-Null Count  Dtype  \n",
      "---  ------       --------------  -----  \n",
      " 0   PassengerId  889 non-null    int64  \n",
      " 1   Survived     889 non-null    int64  \n",
      " 2   Pclass       889 non-null    int64  \n",
      " 3   Name         889 non-null    object \n",
      " 4   Sex          889 non-null    object \n",
      " 5   Age          889 non-null    float64\n",
      " 6   SibSp        889 non-null    int64  \n",
      " 7   Parch        889 non-null    int64  \n",
      " 8   Ticket       889 non-null    object \n",
      " 9   Fare         889 non-null    float64\n",
      " 10  Embarked     889 non-null    object \n",
      "dtypes: float64(2), int64(5), object(4)\n",
      "memory usage: 83.3+ KB\n"
     ]
    },
    {
     "data": {
      "text/plain": [
       "None"
      ]
     },
     "metadata": {},
     "output_type": "display_data"
    },
    {
     "name": "stdout",
     "output_type": "stream",
     "text": [
      "\n",
      "\n",
      "df_test:\n",
      "<class 'pandas.core.frame.DataFrame'>\n",
      "Int64Index: 417 entries, 0 to 417\n",
      "Data columns (total 10 columns):\n",
      " #   Column       Non-Null Count  Dtype  \n",
      "---  ------       --------------  -----  \n",
      " 0   PassengerId  417 non-null    int64  \n",
      " 1   Pclass       417 non-null    int64  \n",
      " 2   Name         417 non-null    object \n",
      " 3   Sex          417 non-null    object \n",
      " 4   Age          417 non-null    float64\n",
      " 5   SibSp        417 non-null    int64  \n",
      " 6   Parch        417 non-null    int64  \n",
      " 7   Ticket       417 non-null    object \n",
      " 8   Fare         417 non-null    float64\n",
      " 9   Embarked     417 non-null    object \n",
      "dtypes: float64(2), int64(4), object(4)\n",
      "memory usage: 35.8+ KB\n"
     ]
    },
    {
     "data": {
      "text/plain": [
       "None"
      ]
     },
     "metadata": {},
     "output_type": "display_data"
    },
    {
     "name": "stdout",
     "output_type": "stream",
     "text": [
      "\n",
      "\n"
     ]
    }
   ],
   "source": [
    "\"\"\"\n",
    "    Confirm that all changes have taken effect\n",
    "    \"\"\"\n",
    "#check attributes of all contents of df_train and df_test\n",
    "print(\"df_train:\")\n",
    "display(df_train.info())\n",
    "print(\"\\n\")\n",
    "\n",
    "print(\"df_test:\")\n",
    "display(df_test.info())\n",
    "print(\"\\n\")"
   ]
  },
  {
   "cell_type": "markdown",
   "id": "fbda4dca-1cb4-458d-8388-bb2c46d63337",
   "metadata": {},
   "source": [
    "### *2.2.2 Handle Duplicates*"
   ]
  },
  {
   "cell_type": "code",
   "execution_count": 212,
   "id": "bd0a9aa3-b10a-4c88-aebc-61be3772f1df",
   "metadata": {},
   "outputs": [
    {
     "name": "stdout",
     "output_type": "stream",
     "text": [
      "\u001b[1mPassengerId column duplicates:\u001b[0m\n",
      "df_train - No duplicates\n",
      "df_test - No duplicates\n",
      "df_gsub - No duplicates\n"
     ]
    }
   ],
   "source": [
    "\"\"\"\n",
    "    From inspection, only the PassengerId columns in all 3 datasets must not have duplicates\n",
    "    \"\"\"\n",
    "#Check for duplicates in the PassengerId column of df_train\n",
    "print(\"\\033[1m\" + \"PassengerId column duplicates:\" + \"\\033[0m\")\n",
    "if df_train[\"PassengerId\"].duplicated().any():\n",
    "    print(\"df_train has duplicate values\")\n",
    "else:\n",
    "    print(\"df_train - No duplicates\")\n",
    "    \n",
    "#Check for duplicates in the PassengerId column of df_test\n",
    "if df_test[\"PassengerId\"].duplicated().any():\n",
    "    print(\"df_test has duplicate values\")\n",
    "else:\n",
    "    print(\"df_test - No duplicates\")\n",
    "\n",
    "#Check for duplicates in the PassengerId column of df_gsub\n",
    "if df_gsub[\"PassengerId\"].duplicated().any():\n",
    "    print(\"df_gsub has duplicate values\")\n",
    "else:\n",
    "    print(\"df_gsub - No duplicates\")"
   ]
  },
  {
   "cell_type": "markdown",
   "id": "7c282081-e9fe-4757-a7f5-21eb7e908a97",
   "metadata": {},
   "source": [
    "### 2.2.3 *Check for Outliers*"
   ]
  },
  {
   "cell_type": "code",
   "execution_count": 213,
   "id": "92aa9800-5a60-4f0d-92ba-c3a0cddfc851",
   "metadata": {},
   "outputs": [
    {
     "data": {
      "image/png": "[encoded data removed]",
      "text/plain": [
       "<Figure size 640x480 with 2 Axes>"
      ]
     },
     "metadata": {},
     "output_type": "display_data"
    },
    {
     "name": "stdout",
     "output_type": "stream",
     "text": [
      "\u001b[1mdf_train outlers:\u001b[0m\n",
      "[0.42, 0.67, 0.75, 0.75, 0.83, 0.83, 0.92, 1.0, 1.0, 1.0, 1.0, 1.0, 1.0, 1.0, 2.0, 2.0, 2.0, 2.0, 2.0, 2.0, 2.0, 2.0, 2.0, 2.0, 55.0, 55.0, 55.5, 56.0, 56.0, 56.0, 56.0, 57.0, 57.0, 58.0, 58.0, 58.0, 58.0, 58.0, 59.0, 59.0, 60.0, 60.0, 60.0, 60.0, 61.0, 61.0, 61.0, 62.0, 62.0, 62.0, 63.0, 63.0, 64.0, 64.0, 65.0, 65.0, 65.0, 66.0, 70.0, 70.0, 70.5, 71.0, 71.0, 74.0, 80.0]\n",
      "\n",
      "\n",
      "\u001b[1mdf_test outlers:\u001b[0m\n",
      "[0.17, 0.33, 0.75, 0.83, 0.92, 1.0, 1.0, 1.0, 2.0, 2.0, 3.0, 54.0, 54.0, 55.0, 55.0, 55.0, 55.0, 55.0, 55.0, 57.0, 57.0, 57.0, 58.0, 59.0, 60.0, 60.0, 60.0, 61.0, 61.0, 62.0, 63.0, 63.0, 64.0, 64.0, 64.0, 67.0, 76.0]\n"
     ]
    }
   ],
   "source": [
    "\"\"\"\n",
    "    The Age column of the df_train and df_test dataframes could have outliers that could skew analysis and decisions. \n",
    "    Boxplots will be used to check for outliers in both columns\n",
    "    \"\"\"\n",
    "#Create a boxplot to visualize Age distribution in df_train & df_test\n",
    "fig, ax = plt.subplots(1, 2)\n",
    "ax[0].boxplot(df_train[\"Age\"])\n",
    "ax[0].set_title(\"Boxplot Age Column of df_train\")\n",
    "ax[0].set_xlabel(\"Age\")\n",
    "\n",
    "ax[1].boxplot(df_test[\"Age\"])\n",
    "ax[1].set_title(\"Boxplot Age Column of df_test\")\n",
    "ax[1].set_xlabel(\"Age\")\n",
    "\n",
    "#Display plot\n",
    "plt.show()\n",
    "\n",
    "#Identify outliers for df_train\n",
    "Q1 = df_train[\"Age\"].quantile(0.25)\n",
    "Q3 = df_train[\"Age\"].quantile(0.75)\n",
    "IQR = Q3 - Q1\n",
    "\n",
    "outliers = df_train[(df_train[\"Age\"] < (Q1 - 1.5 * IQR)) | (df_train[\"Age\"] > (Q3 + 1.5 * IQR))]\n",
    "print(\"\\033[1m\" + \"df_train outlers:\" + \"\\033[0m\")\n",
    "print(sorted(outliers[\"Age\"].values.tolist()))\n",
    "print(\"\\n\")\n",
    "\n",
    "#Identify outliers for df_test\n",
    "Q1 = df_test[\"Age\"].quantile(0.25)\n",
    "Q3 = df_test[\"Age\"].quantile(0.75)\n",
    "IQR = Q3 - Q1\n",
    "\n",
    "outliers = df_test[(df_test[\"Age\"] < (Q1 - 1.5 * IQR)) | (df_test[\"Age\"] > (Q3 + 1.5 * IQR))]\n",
    "print(\"\\033[1m\" + \"df_test outlers:\" + \"\\033[0m\")\n",
    "print(sorted(outliers[\"Age\"].values.tolist()))"
   ]
  },
  {
   "cell_type": "code",
   "execution_count": 214,
   "id": "459e7774-c3aa-4082-b6e4-1b8220fec7af",
   "metadata": {},
   "outputs": [],
   "source": [
    "\"\"\"\n",
    "    Inspection of the outliers shows ages below 1 which likely represents babies under 1 year of age.\n",
    "    df_train has 7 such ages and df_test has 5. \n",
    "    These will not affect analysis significantly and so will be removed. \n",
    "    \"\"\"\n",
    "#Remove outlier ages less than 1 yr from df_train\n",
    "df_train = df_train[df_train[\"Age\"] >= 1]\n",
    "\n",
    "#Remove outlier ages less than 1 yr from df_test\n",
    "df_test = df_test[df_test[\"Age\"] >= 1]"
   ]
  },
  {
   "cell_type": "markdown",
   "id": "9938b071-38d8-4cca-807e-5c31172b7476",
   "metadata": {},
   "source": [
    "### 2.2.3 *Ensure Correct Datatypes*"
   ]
  },
  {
   "cell_type": "code",
   "execution_count": 215,
   "id": "cd9ec489-8819-4f3c-81ad-153819a8d908",
   "metadata": {},
   "outputs": [],
   "source": [
    "\"\"\"\n",
    "    Age column in df_train and df_test are in float64. \n",
    "    They will be converted to an int64\n",
    "    \"\"\"\n",
    "#Convert Age column in df_train format from float64 to int64\n",
    "df_train[\"Age\"] = df_train[\"Age\"].astype(\"int64\")\n",
    "\n",
    "#Convert Age column in df_test format from float64 to int64\n",
    "df_test[\"Age\"] = df_test[\"Age\"].astype(\"int64\")"
   ]
  },
  {
   "cell_type": "markdown",
   "id": "a84103f8-0184-4e5e-80ed-f3434331d727",
   "metadata": {},
   "source": [
    "### *2.2.4 Handle Any Remaining Errors*"
   ]
  },
  {
   "cell_type": "code",
   "execution_count": 216,
   "id": "806a799b-3ec1-4f02-9b3b-1e3404f16d86",
   "metadata": {},
   "outputs": [
    {
     "data": {
      "text/plain": [
       "array(['male', 'female'], dtype=object)"
      ]
     },
     "metadata": {},
     "output_type": "display_data"
    },
    {
     "name": "stdout",
     "output_type": "stream",
     "text": [
      "\n",
      "\n"
     ]
    },
    {
     "data": {
      "text/plain": [
       "array(['male', 'female'], dtype=object)"
      ]
     },
     "execution_count": 216,
     "metadata": {},
     "output_type": "execute_result"
    }
   ],
   "source": [
    "\"\"\"\n",
    "    Sex columns must contain only 2 types of entries, male or female. \n",
    "    \"\"\"\n",
    "#confrim only male and female entries in df_train \n",
    "display(df_train[\"Sex\"].unique())\n",
    "print(\"\\n\")\n",
    "\n",
    "#confrim only male and female entries in df_test\n",
    "df_test[\"Sex\"].unique()\n"
   ]
  },
  {
   "cell_type": "code",
   "execution_count": 217,
   "id": "bceedc40-514f-458b-b8d1-e9e1ab3ec738",
   "metadata": {},
   "outputs": [],
   "source": [
    "\"\"\"\n",
    "    Any columns that are not significatnt to the data and its anlaysis must be removed. \n",
    "    Inspection reveals the index and Name columns fall within such category and so will be removed. \n",
    "    \"\"\"\n",
    "#drop name column of df_train\n",
    "df_train = df_train.drop(\"Name\", axis = 1)\n",
    "\n",
    "#drop name column of df_train\n",
    "df_test = df_test.drop(\"Name\", axis = 1)"
   ]
  },
  {
   "cell_type": "markdown",
   "id": "fd2afe65-21f0-4902-a676-83e5ea643998",
   "metadata": {},
   "source": [
    "### **2.3 Save Files for Analysi in Tableau**"
   ]
  },
  {
   "cell_type": "code",
   "execution_count": 218,
   "id": "42644fa2-2f48-4956-b8ec-ebc70bed7eb8",
   "metadata": {},
   "outputs": [],
   "source": [
    "df_train.to_csv(\"Train_clean.csv\", index = False)\n",
    "df_test.to_csv(\"Test_clean.csv\", index = False)\n",
    "df_gsub.to_csv(\"gsub_clean.csv\", index = False)"
   ]
  },
  {
   "cell_type": "code",
   "execution_count": null,
   "id": "d17da586-4dd6-4ee3-82c1-7748d2944ed1",
   "metadata": {},
   "outputs": [],
   "source": []
  }
 ],
 "metadata": {
  "kernelspec": {
   "display_name": "Python 3 (ipykernel)",
   "language": "python",
   "name": "python3"
  },
  "language_info": {
   "codemirror_mode": {
    "name": "ipython",
    "version": 3
   },
   "file_extension": ".py",
   "mimetype": "text/x-python",
   "name": "python",
   "nbconvert_exporter": "python",
   "pygments_lexer": "ipython3",
   "version": "3.10.4"
  }
 },
 "nbformat": 4,
 "nbformat_minor": 5
}
